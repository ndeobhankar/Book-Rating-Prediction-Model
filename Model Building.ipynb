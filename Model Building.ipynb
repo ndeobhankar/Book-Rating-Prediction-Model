{
 "cells": [
  {
   "cell_type": "markdown",
   "id": "ea02f906",
   "metadata": {},
   "source": [
    "# Model Building\n"
   ]
  },
  {
   "cell_type": "code",
   "execution_count": 1,
   "id": "ad2024d2",
   "metadata": {},
   "outputs": [],
   "source": [
    "import pandas as pd\n",
    "import matplotlib.pyplot as plt\n",
    "import numpy as np\n",
    "import scipy as sp\n",
    "from sklearn import metrics\n",
    "from sklearn import preprocessing\n",
    "from sklearn.linear_model import LinearRegression\n",
    "from sklearn.model_selection import train_test_split\n",
    "from sklearn.model_selection import cross_val_score\n",
    "from sklearn.ensemble import RandomForestRegressor\n",
    "import statsmodels.api as sm\n",
    "from sklearn.model_selection import GridSearchCV, RandomizedSearchCV\n",
    "from sklearn.metrics import mean_absolute_error\n",
    "from sklearn.metrics import r2_score\n",
    "from sklearn.metrics import mean_squared_error\n",
    "import pickle\n",
    "import datetime as dt"
   ]
  },
  {
   "cell_type": "markdown",
   "id": "15d74a92",
   "metadata": {},
   "source": [
    "## Feature Engineering"
   ]
  },
  {
   "cell_type": "code",
   "execution_count": 2,
   "id": "b5347824",
   "metadata": {},
   "outputs": [],
   "source": [
    "df = pd.read_csv(\"D:\\Python Labs\\Python Class Project/book_data_cleaned.csv\", sep=\",\", index_col=\"bookID\")"
   ]
  },
  {
   "cell_type": "code",
   "execution_count": 3,
   "id": "7d6f5f2a",
   "metadata": {},
   "outputs": [
    {
     "data": {
      "text/html": [
       "<div>\n",
       "<style scoped>\n",
       "    .dataframe tbody tr th:only-of-type {\n",
       "        vertical-align: middle;\n",
       "    }\n",
       "\n",
       "    .dataframe tbody tr th {\n",
       "        vertical-align: top;\n",
       "    }\n",
       "\n",
       "    .dataframe thead th {\n",
       "        text-align: right;\n",
       "    }\n",
       "</style>\n",
       "<table border=\"1\" class=\"dataframe\">\n",
       "  <thead>\n",
       "    <tr style=\"text-align: right;\">\n",
       "      <th></th>\n",
       "      <th>title</th>\n",
       "      <th>authors</th>\n",
       "      <th>average_rating</th>\n",
       "      <th>isbn</th>\n",
       "      <th>isbn13</th>\n",
       "      <th>language_code</th>\n",
       "      <th>num_pages</th>\n",
       "      <th>ratings_count</th>\n",
       "      <th>text_reviews_count</th>\n",
       "      <th>publication_date</th>\n",
       "      <th>publisher</th>\n",
       "      <th>month</th>\n",
       "      <th>date</th>\n",
       "      <th>year</th>\n",
       "      <th>Age_of_book</th>\n",
       "    </tr>\n",
       "    <tr>\n",
       "      <th>bookID</th>\n",
       "      <th></th>\n",
       "      <th></th>\n",
       "      <th></th>\n",
       "      <th></th>\n",
       "      <th></th>\n",
       "      <th></th>\n",
       "      <th></th>\n",
       "      <th></th>\n",
       "      <th></th>\n",
       "      <th></th>\n",
       "      <th></th>\n",
       "      <th></th>\n",
       "      <th></th>\n",
       "      <th></th>\n",
       "      <th></th>\n",
       "    </tr>\n",
       "  </thead>\n",
       "  <tbody>\n",
       "    <tr>\n",
       "      <th>1</th>\n",
       "      <td>Harry Potter and the Half-Blood Prince (Harry ...</td>\n",
       "      <td>J.K. Rowling</td>\n",
       "      <td>4.57</td>\n",
       "      <td>439785960</td>\n",
       "      <td>9.780440e+12</td>\n",
       "      <td>eng</td>\n",
       "      <td>652</td>\n",
       "      <td>2095690</td>\n",
       "      <td>27591</td>\n",
       "      <td>2006-09-16</td>\n",
       "      <td>Scholastic Inc.</td>\n",
       "      <td>9</td>\n",
       "      <td>16</td>\n",
       "      <td>2006</td>\n",
       "      <td>15.0</td>\n",
       "    </tr>\n",
       "    <tr>\n",
       "      <th>2</th>\n",
       "      <td>Harry Potter and the Order of the Phoenix (Har...</td>\n",
       "      <td>J.K. Rowling</td>\n",
       "      <td>4.49</td>\n",
       "      <td>439358078</td>\n",
       "      <td>9.780440e+12</td>\n",
       "      <td>eng</td>\n",
       "      <td>870</td>\n",
       "      <td>2153167</td>\n",
       "      <td>29221</td>\n",
       "      <td>2004-09-01</td>\n",
       "      <td>Scholastic Inc.</td>\n",
       "      <td>9</td>\n",
       "      <td>1</td>\n",
       "      <td>2004</td>\n",
       "      <td>17.0</td>\n",
       "    </tr>\n",
       "    <tr>\n",
       "      <th>4</th>\n",
       "      <td>Harry Potter and the Chamber of Secrets (Harry...</td>\n",
       "      <td>J.K. Rowling</td>\n",
       "      <td>4.42</td>\n",
       "      <td>439554896</td>\n",
       "      <td>9.780440e+12</td>\n",
       "      <td>eng</td>\n",
       "      <td>352</td>\n",
       "      <td>6333</td>\n",
       "      <td>244</td>\n",
       "      <td>2003-11-01</td>\n",
       "      <td>Scholastic</td>\n",
       "      <td>11</td>\n",
       "      <td>1</td>\n",
       "      <td>2003</td>\n",
       "      <td>18.0</td>\n",
       "    </tr>\n",
       "    <tr>\n",
       "      <th>5</th>\n",
       "      <td>Harry Potter and the Prisoner of Azkaban (Harr...</td>\n",
       "      <td>J.K. Rowling</td>\n",
       "      <td>4.56</td>\n",
       "      <td>043965548X</td>\n",
       "      <td>9.780440e+12</td>\n",
       "      <td>eng</td>\n",
       "      <td>435</td>\n",
       "      <td>2339585</td>\n",
       "      <td>36325</td>\n",
       "      <td>2004-05-01</td>\n",
       "      <td>Scholastic Inc.</td>\n",
       "      <td>5</td>\n",
       "      <td>1</td>\n",
       "      <td>2004</td>\n",
       "      <td>18.0</td>\n",
       "    </tr>\n",
       "    <tr>\n",
       "      <th>8</th>\n",
       "      <td>Harry Potter Boxed Set  Books 1-5 (Harry Potte...</td>\n",
       "      <td>J.K. Rowling</td>\n",
       "      <td>4.78</td>\n",
       "      <td>439682584</td>\n",
       "      <td>9.780440e+12</td>\n",
       "      <td>eng</td>\n",
       "      <td>2690</td>\n",
       "      <td>41428</td>\n",
       "      <td>164</td>\n",
       "      <td>2004-09-13</td>\n",
       "      <td>Scholastic</td>\n",
       "      <td>9</td>\n",
       "      <td>13</td>\n",
       "      <td>2004</td>\n",
       "      <td>17.0</td>\n",
       "    </tr>\n",
       "  </tbody>\n",
       "</table>\n",
       "</div>"
      ],
      "text/plain": [
       "                                                    title       authors  \\\n",
       "bookID                                                                    \n",
       "1       Harry Potter and the Half-Blood Prince (Harry ...  J.K. Rowling   \n",
       "2       Harry Potter and the Order of the Phoenix (Har...  J.K. Rowling   \n",
       "4       Harry Potter and the Chamber of Secrets (Harry...  J.K. Rowling   \n",
       "5       Harry Potter and the Prisoner of Azkaban (Harr...  J.K. Rowling   \n",
       "8       Harry Potter Boxed Set  Books 1-5 (Harry Potte...  J.K. Rowling   \n",
       "\n",
       "        average_rating        isbn        isbn13 language_code  num_pages  \\\n",
       "bookID                                                                      \n",
       "1                 4.57   439785960  9.780440e+12           eng        652   \n",
       "2                 4.49   439358078  9.780440e+12           eng        870   \n",
       "4                 4.42   439554896  9.780440e+12           eng        352   \n",
       "5                 4.56  043965548X  9.780440e+12           eng        435   \n",
       "8                 4.78   439682584  9.780440e+12           eng       2690   \n",
       "\n",
       "        ratings_count  text_reviews_count publication_date        publisher  \\\n",
       "bookID                                                                        \n",
       "1             2095690               27591       2006-09-16  Scholastic Inc.   \n",
       "2             2153167               29221       2004-09-01  Scholastic Inc.   \n",
       "4                6333                 244       2003-11-01       Scholastic   \n",
       "5             2339585               36325       2004-05-01  Scholastic Inc.   \n",
       "8               41428                 164       2004-09-13       Scholastic   \n",
       "\n",
       "        month  date  year  Age_of_book  \n",
       "bookID                                  \n",
       "1           9    16  2006         15.0  \n",
       "2           9     1  2004         17.0  \n",
       "4          11     1  2003         18.0  \n",
       "5           5     1  2004         18.0  \n",
       "8           9    13  2004         17.0  "
      ]
     },
     "execution_count": 3,
     "metadata": {},
     "output_type": "execute_result"
    }
   ],
   "source": [
    "df.head()"
   ]
  },
  {
   "cell_type": "markdown",
   "id": "e1769f20",
   "metadata": {},
   "source": [
    "As discussed while clearning the data, we can remove ISBN, ISBN13 and publication_date from the data since they it can be assumed that they may not influence the outcome in anyway."
   ]
  },
  {
   "cell_type": "code",
   "execution_count": 4,
   "id": "2ab2dbef",
   "metadata": {},
   "outputs": [],
   "source": [
    "df = df.drop([\"isbn\", \"isbn13\", \"publication_date\"], axis=1)"
   ]
  },
  {
   "cell_type": "markdown",
   "id": "c1b47d33",
   "metadata": {},
   "source": [
    "Here, we can consider Title, Authors, Average ratings, language, number of pages, ratings count, text reviews count, publisher month, date, year and age of the book. Later, we can encode the categorial variables title, authors and publishers."
   ]
  },
  {
   "cell_type": "code",
   "execution_count": 5,
   "id": "455783d4",
   "metadata": {},
   "outputs": [],
   "source": [
    "df_model = df[['title', 'authors', 'average_rating', 'language_code', 'num_pages', 'ratings_count', 'text_reviews_count', \n",
    "               'publisher', 'month', 'date', 'year', 'Age_of_book']]"
   ]
  },
  {
   "cell_type": "code",
   "execution_count": 6,
   "id": "75874441",
   "metadata": {},
   "outputs": [],
   "source": [
    "le = preprocessing.LabelEncoder()\n",
    "df_model['title'] = le.fit_transform(df_model['title'])\n",
    "df_model['authors'] = le.fit_transform(df_model['authors'])\n",
    "df_model['publisher'] = le.fit_transform(df_model['publisher'])"
   ]
  },
  {
   "cell_type": "markdown",
   "id": "dcc9e934",
   "metadata": {},
   "source": [
    "As far as languages are concerned, it will better to convert them into dummies."
   ]
  },
  {
   "cell_type": "code",
   "execution_count": 7,
   "id": "ca26e70a",
   "metadata": {},
   "outputs": [],
   "source": [
    "df_dum = pd.get_dummies(df_model['language_code'])\n",
    "df_model = pd.concat([df_model, df_dum], axis = 1)"
   ]
  },
  {
   "cell_type": "code",
   "execution_count": 8,
   "id": "ffec70f2",
   "metadata": {},
   "outputs": [
    {
     "data": {
      "text/html": [
       "<div>\n",
       "<style scoped>\n",
       "    .dataframe tbody tr th:only-of-type {\n",
       "        vertical-align: middle;\n",
       "    }\n",
       "\n",
       "    .dataframe tbody tr th {\n",
       "        vertical-align: top;\n",
       "    }\n",
       "\n",
       "    .dataframe thead th {\n",
       "        text-align: right;\n",
       "    }\n",
       "</style>\n",
       "<table border=\"1\" class=\"dataframe\">\n",
       "  <thead>\n",
       "    <tr style=\"text-align: right;\">\n",
       "      <th></th>\n",
       "      <th>title</th>\n",
       "      <th>authors</th>\n",
       "      <th>average_rating</th>\n",
       "      <th>language_code</th>\n",
       "      <th>num_pages</th>\n",
       "      <th>ratings_count</th>\n",
       "      <th>text_reviews_count</th>\n",
       "      <th>publisher</th>\n",
       "      <th>month</th>\n",
       "      <th>date</th>\n",
       "      <th>...</th>\n",
       "      <th>nl</th>\n",
       "      <th>nor</th>\n",
       "      <th>por</th>\n",
       "      <th>rus</th>\n",
       "      <th>spa</th>\n",
       "      <th>srp</th>\n",
       "      <th>swe</th>\n",
       "      <th>tur</th>\n",
       "      <th>wel</th>\n",
       "      <th>zho</th>\n",
       "    </tr>\n",
       "    <tr>\n",
       "      <th>bookID</th>\n",
       "      <th></th>\n",
       "      <th></th>\n",
       "      <th></th>\n",
       "      <th></th>\n",
       "      <th></th>\n",
       "      <th></th>\n",
       "      <th></th>\n",
       "      <th></th>\n",
       "      <th></th>\n",
       "      <th></th>\n",
       "      <th></th>\n",
       "      <th></th>\n",
       "      <th></th>\n",
       "      <th></th>\n",
       "      <th></th>\n",
       "      <th></th>\n",
       "      <th></th>\n",
       "      <th></th>\n",
       "      <th></th>\n",
       "      <th></th>\n",
       "      <th></th>\n",
       "    </tr>\n",
       "  </thead>\n",
       "  <tbody>\n",
       "    <tr>\n",
       "      <th>1</th>\n",
       "      <td>3071</td>\n",
       "      <td>2623</td>\n",
       "      <td>4.57</td>\n",
       "      <td>eng</td>\n",
       "      <td>652</td>\n",
       "      <td>2095690</td>\n",
       "      <td>27591</td>\n",
       "      <td>1779</td>\n",
       "      <td>9</td>\n",
       "      <td>16</td>\n",
       "      <td>...</td>\n",
       "      <td>0</td>\n",
       "      <td>0</td>\n",
       "      <td>0</td>\n",
       "      <td>0</td>\n",
       "      <td>0</td>\n",
       "      <td>0</td>\n",
       "      <td>0</td>\n",
       "      <td>0</td>\n",
       "      <td>0</td>\n",
       "      <td>0</td>\n",
       "    </tr>\n",
       "    <tr>\n",
       "      <th>2</th>\n",
       "      <td>3072</td>\n",
       "      <td>2623</td>\n",
       "      <td>4.49</td>\n",
       "      <td>eng</td>\n",
       "      <td>870</td>\n",
       "      <td>2153167</td>\n",
       "      <td>29221</td>\n",
       "      <td>1779</td>\n",
       "      <td>9</td>\n",
       "      <td>1</td>\n",
       "      <td>...</td>\n",
       "      <td>0</td>\n",
       "      <td>0</td>\n",
       "      <td>0</td>\n",
       "      <td>0</td>\n",
       "      <td>0</td>\n",
       "      <td>0</td>\n",
       "      <td>0</td>\n",
       "      <td>0</td>\n",
       "      <td>0</td>\n",
       "      <td>0</td>\n",
       "    </tr>\n",
       "    <tr>\n",
       "      <th>4</th>\n",
       "      <td>3069</td>\n",
       "      <td>2623</td>\n",
       "      <td>4.42</td>\n",
       "      <td>eng</td>\n",
       "      <td>352</td>\n",
       "      <td>6333</td>\n",
       "      <td>244</td>\n",
       "      <td>1774</td>\n",
       "      <td>11</td>\n",
       "      <td>1</td>\n",
       "      <td>...</td>\n",
       "      <td>0</td>\n",
       "      <td>0</td>\n",
       "      <td>0</td>\n",
       "      <td>0</td>\n",
       "      <td>0</td>\n",
       "      <td>0</td>\n",
       "      <td>0</td>\n",
       "      <td>0</td>\n",
       "      <td>0</td>\n",
       "      <td>0</td>\n",
       "    </tr>\n",
       "    <tr>\n",
       "      <th>5</th>\n",
       "      <td>3074</td>\n",
       "      <td>2623</td>\n",
       "      <td>4.56</td>\n",
       "      <td>eng</td>\n",
       "      <td>435</td>\n",
       "      <td>2339585</td>\n",
       "      <td>36325</td>\n",
       "      <td>1779</td>\n",
       "      <td>5</td>\n",
       "      <td>1</td>\n",
       "      <td>...</td>\n",
       "      <td>0</td>\n",
       "      <td>0</td>\n",
       "      <td>0</td>\n",
       "      <td>0</td>\n",
       "      <td>0</td>\n",
       "      <td>0</td>\n",
       "      <td>0</td>\n",
       "      <td>0</td>\n",
       "      <td>0</td>\n",
       "      <td>0</td>\n",
       "    </tr>\n",
       "    <tr>\n",
       "      <th>8</th>\n",
       "      <td>3064</td>\n",
       "      <td>2623</td>\n",
       "      <td>4.78</td>\n",
       "      <td>eng</td>\n",
       "      <td>2690</td>\n",
       "      <td>41428</td>\n",
       "      <td>164</td>\n",
       "      <td>1774</td>\n",
       "      <td>9</td>\n",
       "      <td>13</td>\n",
       "      <td>...</td>\n",
       "      <td>0</td>\n",
       "      <td>0</td>\n",
       "      <td>0</td>\n",
       "      <td>0</td>\n",
       "      <td>0</td>\n",
       "      <td>0</td>\n",
       "      <td>0</td>\n",
       "      <td>0</td>\n",
       "      <td>0</td>\n",
       "      <td>0</td>\n",
       "    </tr>\n",
       "  </tbody>\n",
       "</table>\n",
       "<p>5 rows × 39 columns</p>\n",
       "</div>"
      ],
      "text/plain": [
       "        title  authors  average_rating language_code  num_pages  \\\n",
       "bookID                                                            \n",
       "1        3071     2623            4.57           eng        652   \n",
       "2        3072     2623            4.49           eng        870   \n",
       "4        3069     2623            4.42           eng        352   \n",
       "5        3074     2623            4.56           eng        435   \n",
       "8        3064     2623            4.78           eng       2690   \n",
       "\n",
       "        ratings_count  text_reviews_count  publisher  month  date  ...  nl  \\\n",
       "bookID                                                             ...       \n",
       "1             2095690               27591       1779      9    16  ...   0   \n",
       "2             2153167               29221       1779      9     1  ...   0   \n",
       "4                6333                 244       1774     11     1  ...   0   \n",
       "5             2339585               36325       1779      5     1  ...   0   \n",
       "8               41428                 164       1774      9    13  ...   0   \n",
       "\n",
       "        nor  por  rus  spa  srp  swe  tur  wel  zho  \n",
       "bookID                                               \n",
       "1         0    0    0    0    0    0    0    0    0  \n",
       "2         0    0    0    0    0    0    0    0    0  \n",
       "4         0    0    0    0    0    0    0    0    0  \n",
       "5         0    0    0    0    0    0    0    0    0  \n",
       "8         0    0    0    0    0    0    0    0    0  \n",
       "\n",
       "[5 rows x 39 columns]"
      ]
     },
     "execution_count": 8,
     "metadata": {},
     "output_type": "execute_result"
    }
   ],
   "source": [
    "df_model.head()"
   ]
  },
  {
   "cell_type": "markdown",
   "id": "98a44613",
   "metadata": {},
   "source": [
    "Here, Average Rating and language code are removed from features. Average Rating is the target or a parameter to be predicted. Also, languages are already converted into dummies."
   ]
  },
  {
   "cell_type": "code",
   "execution_count": 9,
   "id": "87d06e42",
   "metadata": {},
   "outputs": [],
   "source": [
    "X = df_model.drop(['average_rating', 'language_code'], axis = 1)\n",
    "y = df_model['average_rating'].values\n",
    "\n",
    "X_train, X_test, y_train, y_test = train_test_split(X, y, test_size = 0.20, random_state = 42)"
   ]
  },
  {
   "cell_type": "markdown",
   "id": "1ba44f12",
   "metadata": {},
   "source": [
    "Let's confirm how many rows are created the model."
   ]
  },
  {
   "cell_type": "code",
   "execution_count": 10,
   "id": "93f3fac2",
   "metadata": {},
   "outputs": [
    {
     "data": {
      "text/plain": [
       "11125"
      ]
     },
     "execution_count": 10,
     "metadata": {},
     "output_type": "execute_result"
    }
   ],
   "source": [
    "len(df_model)"
   ]
  },
  {
   "cell_type": "code",
   "execution_count": 11,
   "id": "5c29c08c",
   "metadata": {},
   "outputs": [
    {
     "data": {
      "text/plain": [
       "8900"
      ]
     },
     "execution_count": 11,
     "metadata": {},
     "output_type": "execute_result"
    }
   ],
   "source": [
    "len(X_train)"
   ]
  },
  {
   "cell_type": "code",
   "execution_count": 12,
   "id": "d1f98b43",
   "metadata": {},
   "outputs": [
    {
     "data": {
      "text/plain": [
       "2225"
      ]
     },
     "execution_count": 12,
     "metadata": {},
     "output_type": "execute_result"
    }
   ],
   "source": [
    "len(X_test)"
   ]
  },
  {
   "cell_type": "markdown",
   "id": "7f58d746",
   "metadata": {},
   "source": [
    "Before actually training the model with any method, let's try to understand the quality of model for Ordinary Least Squared Linear Regression."
   ]
  },
  {
   "cell_type": "markdown",
   "id": "c6ee9a63",
   "metadata": {},
   "source": [
    "## Model Selection"
   ]
  },
  {
   "cell_type": "code",
   "execution_count": 13,
   "id": "dbc4e3ff",
   "metadata": {
    "scrolled": false
   },
   "outputs": [
    {
     "data": {
      "text/html": [
       "<table class=\"simpletable\">\n",
       "<caption>OLS Regression Results</caption>\n",
       "<tr>\n",
       "  <th>Dep. Variable:</th>            <td>y</td>        <th>  R-squared:         </th> <td>   0.049</td>\n",
       "</tr>\n",
       "<tr>\n",
       "  <th>Model:</th>                   <td>OLS</td>       <th>  Adj. R-squared:    </th> <td>   0.045</td>\n",
       "</tr>\n",
       "<tr>\n",
       "  <th>Method:</th>             <td>Least Squares</td>  <th>  F-statistic:       </th> <td>   15.73</td>\n",
       "</tr>\n",
       "<tr>\n",
       "  <th>Date:</th>             <td>Sun, 26 Jun 2022</td> <th>  Prob (F-statistic):</th> <td>7.57e-94</td>\n",
       "</tr>\n",
       "<tr>\n",
       "  <th>Time:</th>                 <td>16:40:55</td>     <th>  Log-Likelihood:    </th> <td> -3907.2</td>\n",
       "</tr>\n",
       "<tr>\n",
       "  <th>No. Observations:</th>      <td> 11125</td>      <th>  AIC:               </th> <td>   7888.</td>\n",
       "</tr>\n",
       "<tr>\n",
       "  <th>Df Residuals:</th>          <td> 11088</td>      <th>  BIC:               </th> <td>   8159.</td>\n",
       "</tr>\n",
       "<tr>\n",
       "  <th>Df Model:</th>              <td>    36</td>      <th>                     </th>     <td> </td>   \n",
       "</tr>\n",
       "<tr>\n",
       "  <th>Covariance Type:</th>      <td>nonrobust</td>    <th>                     </th>     <td> </td>   \n",
       "</tr>\n",
       "</table>\n",
       "<table class=\"simpletable\">\n",
       "<tr>\n",
       "           <td></td>             <th>coef</th>     <th>std err</th>      <th>t</th>      <th>P>|t|</th>  <th>[0.025</th>    <th>0.975]</th>  \n",
       "</tr>\n",
       "<tr>\n",
       "  <th>const</th>              <td>   18.6318</td> <td>   26.477</td> <td>    0.704</td> <td> 0.482</td> <td>  -33.268</td> <td>   70.532</td>\n",
       "</tr>\n",
       "<tr>\n",
       "  <th>title</th>              <td> 2.196e-06</td> <td> 1.11e-06</td> <td>    1.981</td> <td> 0.048</td> <td> 2.31e-08</td> <td> 4.37e-06</td>\n",
       "</tr>\n",
       "<tr>\n",
       "  <th>authors</th>            <td> 2.984e-06</td> <td> 1.72e-06</td> <td>    1.738</td> <td> 0.082</td> <td>-3.81e-07</td> <td> 6.35e-06</td>\n",
       "</tr>\n",
       "<tr>\n",
       "  <th>num_pages</th>          <td>    0.0002</td> <td> 1.36e-05</td> <td>   16.180</td> <td> 0.000</td> <td>    0.000</td> <td>    0.000</td>\n",
       "</tr>\n",
       "<tr>\n",
       "  <th>ratings_count</th>      <td>  9.91e-08</td> <td> 5.81e-08</td> <td>    1.706</td> <td> 0.088</td> <td>-1.48e-08</td> <td> 2.13e-07</td>\n",
       "</tr>\n",
       "<tr>\n",
       "  <th>text_reviews_count</th> <td> 5.329e-07</td> <td> 2.54e-06</td> <td>    0.209</td> <td> 0.834</td> <td>-4.45e-06</td> <td> 5.52e-06</td>\n",
       "</tr>\n",
       "<tr>\n",
       "  <th>publisher</th>          <td> 8.356e-06</td> <td> 4.86e-06</td> <td>    1.720</td> <td> 0.085</td> <td>-1.17e-06</td> <td> 1.79e-05</td>\n",
       "</tr>\n",
       "<tr>\n",
       "  <th>month</th>              <td>    0.0011</td> <td>    0.002</td> <td>    0.548</td> <td> 0.584</td> <td>   -0.003</td> <td>    0.005</td>\n",
       "</tr>\n",
       "<tr>\n",
       "  <th>date</th>               <td>   -0.0001</td> <td>    0.000</td> <td>   -0.418</td> <td> 0.676</td> <td>   -0.001</td> <td>    0.000</td>\n",
       "</tr>\n",
       "<tr>\n",
       "  <th>year</th>               <td>   -0.0077</td> <td>    0.014</td> <td>   -0.567</td> <td> 0.570</td> <td>   -0.034</td> <td>    0.019</td>\n",
       "</tr>\n",
       "<tr>\n",
       "  <th>Age_of_book</th>        <td>   -0.0065</td> <td>    0.014</td> <td>   -0.481</td> <td> 0.631</td> <td>   -0.033</td> <td>    0.020</td>\n",
       "</tr>\n",
       "<tr>\n",
       "  <th>ale</th>                <td>    1.1565</td> <td>    1.037</td> <td>    1.115</td> <td> 0.265</td> <td>   -0.877</td> <td>    3.190</td>\n",
       "</tr>\n",
       "<tr>\n",
       "  <th>ara</th>                <td>    0.3556</td> <td>    1.037</td> <td>    0.343</td> <td> 0.732</td> <td>   -1.678</td> <td>    2.389</td>\n",
       "</tr>\n",
       "<tr>\n",
       "  <th>en-CA</th>              <td>    0.8555</td> <td>    0.989</td> <td>    0.865</td> <td> 0.387</td> <td>   -1.082</td> <td>    2.793</td>\n",
       "</tr>\n",
       "<tr>\n",
       "  <th>en-GB</th>              <td>    0.7331</td> <td>    0.982</td> <td>    0.747</td> <td> 0.455</td> <td>   -1.192</td> <td>    2.658</td>\n",
       "</tr>\n",
       "<tr>\n",
       "  <th>en-US</th>              <td>    0.7207</td> <td>    0.982</td> <td>    0.734</td> <td> 0.463</td> <td>   -1.204</td> <td>    2.645</td>\n",
       "</tr>\n",
       "<tr>\n",
       "  <th>eng</th>                <td>    0.7360</td> <td>    0.982</td> <td>    0.750</td> <td> 0.454</td> <td>   -1.189</td> <td>    2.661</td>\n",
       "</tr>\n",
       "<tr>\n",
       "  <th>enm</th>                <td>    0.5096</td> <td>    1.001</td> <td>    0.509</td> <td> 0.611</td> <td>   -1.453</td> <td>    2.472</td>\n",
       "</tr>\n",
       "<tr>\n",
       "  <th>fre</th>                <td>    0.7798</td> <td>    0.983</td> <td>    0.793</td> <td> 0.428</td> <td>   -1.147</td> <td>    2.707</td>\n",
       "</tr>\n",
       "<tr>\n",
       "  <th>ger</th>                <td>    0.7476</td> <td>    0.982</td> <td>    0.761</td> <td> 0.447</td> <td>   -1.178</td> <td>    2.673</td>\n",
       "</tr>\n",
       "<tr>\n",
       "  <th>gla</th>                <td>    1.3149</td> <td>    1.031</td> <td>    1.275</td> <td> 0.202</td> <td>   -0.706</td> <td>    3.336</td>\n",
       "</tr>\n",
       "<tr>\n",
       "  <th>glg</th>                <td>    0.0914</td> <td>    1.042</td> <td>    0.088</td> <td> 0.930</td> <td>   -1.952</td> <td>    2.134</td>\n",
       "</tr>\n",
       "<tr>\n",
       "  <th>grc</th>                <td>    0.4882</td> <td>    0.988</td> <td>    0.494</td> <td> 0.621</td> <td>   -1.448</td> <td>    2.424</td>\n",
       "</tr>\n",
       "<tr>\n",
       "  <th>ita</th>                <td>    0.8728</td> <td>    0.994</td> <td>    0.878</td> <td> 0.380</td> <td>   -1.077</td> <td>    2.822</td>\n",
       "</tr>\n",
       "<tr>\n",
       "  <th>jpn</th>                <td>    1.0838</td> <td>    0.983</td> <td>    1.102</td> <td> 0.270</td> <td>   -0.843</td> <td>    3.011</td>\n",
       "</tr>\n",
       "<tr>\n",
       "  <th>lat</th>                <td>    1.2081</td> <td>    1.001</td> <td>    1.207</td> <td> 0.227</td> <td>   -0.754</td> <td>    3.170</td>\n",
       "</tr>\n",
       "<tr>\n",
       "  <th>msa</th>                <td>    0.8296</td> <td>    1.031</td> <td>    0.805</td> <td> 0.421</td> <td>   -1.192</td> <td>    2.851</td>\n",
       "</tr>\n",
       "<tr>\n",
       "  <th>mul</th>                <td>    0.8889</td> <td>    0.985</td> <td>    0.902</td> <td> 0.367</td> <td>   -1.042</td> <td>    2.820</td>\n",
       "</tr>\n",
       "<tr>\n",
       "  <th>nl</th>                 <td>    0.8778</td> <td>    1.031</td> <td>    0.851</td> <td> 0.395</td> <td>   -1.143</td> <td>    2.899</td>\n",
       "</tr>\n",
       "<tr>\n",
       "  <th>nor</th>                <td>    0.4390</td> <td>    1.034</td> <td>    0.425</td> <td> 0.671</td> <td>   -1.588</td> <td>    2.466</td>\n",
       "</tr>\n",
       "<tr>\n",
       "  <th>por</th>                <td>    0.7894</td> <td>    0.987</td> <td>    0.800</td> <td> 0.424</td> <td>   -1.144</td> <td>    2.723</td>\n",
       "</tr>\n",
       "<tr>\n",
       "  <th>rus</th>                <td>    1.0375</td> <td>    1.008</td> <td>    1.029</td> <td> 0.303</td> <td>   -0.938</td> <td>    3.013</td>\n",
       "</tr>\n",
       "<tr>\n",
       "  <th>spa</th>                <td>    0.7362</td> <td>    0.982</td> <td>    0.750</td> <td> 0.453</td> <td>   -1.189</td> <td>    2.661</td>\n",
       "</tr>\n",
       "<tr>\n",
       "  <th>srp</th>                <td>   -3.1697</td> <td>    1.034</td> <td>   -3.066</td> <td> 0.002</td> <td>   -5.196</td> <td>   -1.143</td>\n",
       "</tr>\n",
       "<tr>\n",
       "  <th>swe</th>                <td>    0.2703</td> <td>    1.008</td> <td>    0.268</td> <td> 0.789</td> <td>   -1.706</td> <td>    2.246</td>\n",
       "</tr>\n",
       "<tr>\n",
       "  <th>tur</th>                <td>    1.2009</td> <td>    1.036</td> <td>    1.159</td> <td> 0.246</td> <td>   -0.830</td> <td>    3.231</td>\n",
       "</tr>\n",
       "<tr>\n",
       "  <th>wel</th>                <td>    1.8307</td> <td>    1.042</td> <td>    1.757</td> <td> 0.079</td> <td>   -0.212</td> <td>    3.873</td>\n",
       "</tr>\n",
       "<tr>\n",
       "  <th>zho</th>                <td>    1.2476</td> <td>    0.989</td> <td>    1.261</td> <td> 0.207</td> <td>   -0.692</td> <td>    3.187</td>\n",
       "</tr>\n",
       "</table>\n",
       "<table class=\"simpletable\">\n",
       "<tr>\n",
       "  <th>Omnibus:</th>       <td>9421.186</td> <th>  Durbin-Watson:     </th>  <td>   1.650</td> \n",
       "</tr>\n",
       "<tr>\n",
       "  <th>Prob(Omnibus):</th>  <td> 0.000</td>  <th>  Jarque-Bera (JB):  </th> <td>681215.828</td>\n",
       "</tr>\n",
       "<tr>\n",
       "  <th>Skew:</th>           <td>-3.651</td>  <th>  Prob(JB):          </th>  <td>    0.00</td> \n",
       "</tr>\n",
       "<tr>\n",
       "  <th>Kurtosis:</th>       <td>40.633</td>  <th>  Cond. No.          </th>  <td>2.30e+15</td> \n",
       "</tr>\n",
       "</table><br/><br/>Notes:<br/>[1] Standard Errors assume that the covariance matrix of the errors is correctly specified.<br/>[2] The smallest eigenvalue is 2.73e-17. This might indicate that there are<br/>strong multicollinearity problems or that the design matrix is singular."
      ],
      "text/plain": [
       "<class 'statsmodels.iolib.summary.Summary'>\n",
       "\"\"\"\n",
       "                            OLS Regression Results                            \n",
       "==============================================================================\n",
       "Dep. Variable:                      y   R-squared:                       0.049\n",
       "Model:                            OLS   Adj. R-squared:                  0.045\n",
       "Method:                 Least Squares   F-statistic:                     15.73\n",
       "Date:                Sun, 26 Jun 2022   Prob (F-statistic):           7.57e-94\n",
       "Time:                        16:40:55   Log-Likelihood:                -3907.2\n",
       "No. Observations:               11125   AIC:                             7888.\n",
       "Df Residuals:                   11088   BIC:                             8159.\n",
       "Df Model:                          36                                         \n",
       "Covariance Type:            nonrobust                                         \n",
       "======================================================================================\n",
       "                         coef    std err          t      P>|t|      [0.025      0.975]\n",
       "--------------------------------------------------------------------------------------\n",
       "const                 18.6318     26.477      0.704      0.482     -33.268      70.532\n",
       "title               2.196e-06   1.11e-06      1.981      0.048    2.31e-08    4.37e-06\n",
       "authors             2.984e-06   1.72e-06      1.738      0.082   -3.81e-07    6.35e-06\n",
       "num_pages              0.0002   1.36e-05     16.180      0.000       0.000       0.000\n",
       "ratings_count        9.91e-08   5.81e-08      1.706      0.088   -1.48e-08    2.13e-07\n",
       "text_reviews_count  5.329e-07   2.54e-06      0.209      0.834   -4.45e-06    5.52e-06\n",
       "publisher           8.356e-06   4.86e-06      1.720      0.085   -1.17e-06    1.79e-05\n",
       "month                  0.0011      0.002      0.548      0.584      -0.003       0.005\n",
       "date                  -0.0001      0.000     -0.418      0.676      -0.001       0.000\n",
       "year                  -0.0077      0.014     -0.567      0.570      -0.034       0.019\n",
       "Age_of_book           -0.0065      0.014     -0.481      0.631      -0.033       0.020\n",
       "ale                    1.1565      1.037      1.115      0.265      -0.877       3.190\n",
       "ara                    0.3556      1.037      0.343      0.732      -1.678       2.389\n",
       "en-CA                  0.8555      0.989      0.865      0.387      -1.082       2.793\n",
       "en-GB                  0.7331      0.982      0.747      0.455      -1.192       2.658\n",
       "en-US                  0.7207      0.982      0.734      0.463      -1.204       2.645\n",
       "eng                    0.7360      0.982      0.750      0.454      -1.189       2.661\n",
       "enm                    0.5096      1.001      0.509      0.611      -1.453       2.472\n",
       "fre                    0.7798      0.983      0.793      0.428      -1.147       2.707\n",
       "ger                    0.7476      0.982      0.761      0.447      -1.178       2.673\n",
       "gla                    1.3149      1.031      1.275      0.202      -0.706       3.336\n",
       "glg                    0.0914      1.042      0.088      0.930      -1.952       2.134\n",
       "grc                    0.4882      0.988      0.494      0.621      -1.448       2.424\n",
       "ita                    0.8728      0.994      0.878      0.380      -1.077       2.822\n",
       "jpn                    1.0838      0.983      1.102      0.270      -0.843       3.011\n",
       "lat                    1.2081      1.001      1.207      0.227      -0.754       3.170\n",
       "msa                    0.8296      1.031      0.805      0.421      -1.192       2.851\n",
       "mul                    0.8889      0.985      0.902      0.367      -1.042       2.820\n",
       "nl                     0.8778      1.031      0.851      0.395      -1.143       2.899\n",
       "nor                    0.4390      1.034      0.425      0.671      -1.588       2.466\n",
       "por                    0.7894      0.987      0.800      0.424      -1.144       2.723\n",
       "rus                    1.0375      1.008      1.029      0.303      -0.938       3.013\n",
       "spa                    0.7362      0.982      0.750      0.453      -1.189       2.661\n",
       "srp                   -3.1697      1.034     -3.066      0.002      -5.196      -1.143\n",
       "swe                    0.2703      1.008      0.268      0.789      -1.706       2.246\n",
       "tur                    1.2009      1.036      1.159      0.246      -0.830       3.231\n",
       "wel                    1.8307      1.042      1.757      0.079      -0.212       3.873\n",
       "zho                    1.2476      0.989      1.261      0.207      -0.692       3.187\n",
       "==============================================================================\n",
       "Omnibus:                     9421.186   Durbin-Watson:                   1.650\n",
       "Prob(Omnibus):                  0.000   Jarque-Bera (JB):           681215.828\n",
       "Skew:                          -3.651   Prob(JB):                         0.00\n",
       "Kurtosis:                      40.633   Cond. No.                     2.30e+15\n",
       "==============================================================================\n",
       "\n",
       "Notes:\n",
       "[1] Standard Errors assume that the covariance matrix of the errors is correctly specified.\n",
       "[2] The smallest eigenvalue is 2.73e-17. This might indicate that there are\n",
       "strong multicollinearity problems or that the design matrix is singular.\n",
       "\"\"\""
      ]
     },
     "execution_count": 13,
     "metadata": {},
     "output_type": "execute_result"
    }
   ],
   "source": [
    "X_sm = X = sm.add_constant(X)\n",
    "model = sm.OLS(y,X_sm)\n",
    "model.fit().summary()"
   ]
  },
  {
   "cell_type": "markdown",
   "id": "64b4ad48",
   "metadata": {},
   "source": [
    "### Coefficient:\n",
    "\n",
    "The coefficient term tells the change in Y for a unit change in X. In this case, it is far off from 1 in most of the cases except for a few languages. It can be coincidence.\n",
    "\n",
    "### Standard error of parameters: \n",
    "\n",
    "Standard error is also called the standard deviation. Standard error shows the sampling variability of these parameters. As expected all categorised parameters are meaningless.\n",
    "\n",
    "### t-statistics and p-value:\n",
    "\n",
    "They help us to know whether null hypothesis is true or not. From almost all given p-values we fail to reject the null hypothesis.\n",
    "\n",
    "### R – squared value: \n",
    "\n",
    "R2 is the coefficient of determination that tells us that how much percentage variation independent variable can be explained by independent variable. Unfortunately, only 4.9% variation can be explained by given parameters. \n",
    "\n",
    "### Adj. R-squared: \n",
    "\n",
    "This is the modified version of R-squared which is adjusted for the number of variables in the regression. It increases only when an additional variable adds to the explanatory power to the regression. Since, there is hardly change in this value, it is again clear that it is hard to predict ratings.\n",
    "\n",
    "### Prob(F-Statistic): \n",
    "\n",
    "This tells the overall significance of the regression. As per the above results, probability is close to zero. This implies that overall the regressions is meaningful.\n",
    "\n",
    "### Omnibus / Prob(Omnibus): \n",
    "\n",
    "One of the assumptions of OLS is that the errors are normally distributed. We hope to see the value for Omnibus close to zero which would indicate normalcy.  Prob(Omnibus) is supposed to be close to the 1 in order for it to satisfy the OLS assumption. However, the values from the test indicate that the data is not normally distributed at all.\n",
    "\n",
    "Looking at the constraints, we can select regression models in this case."
   ]
  },
  {
   "cell_type": "markdown",
   "id": "c709e32c",
   "metadata": {},
   "source": [
    "# Linear regression\n",
    "\n",
    "First we will try the linear regression model as follows."
   ]
  },
  {
   "cell_type": "code",
   "execution_count": 14,
   "id": "ff158a59",
   "metadata": {},
   "outputs": [],
   "source": [
    "lr=LinearRegression()\n",
    "lr.fit(X_train, y_train)\n",
    "y_train_pred_lr = lr.predict(X_train)\n",
    "y_test_pred_lr = lr.predict(X_test)"
   ]
  },
  {
   "cell_type": "markdown",
   "id": "f66f6a9e",
   "metadata": {},
   "source": [
    "## Evaluating the Linear Regression model"
   ]
  },
  {
   "cell_type": "code",
   "execution_count": 15,
   "id": "7283d05c",
   "metadata": {},
   "outputs": [
    {
     "data": {
      "text/plain": [
       "(0.0, 5.0)"
      ]
     },
     "execution_count": 15,
     "metadata": {},
     "output_type": "execute_result"
    },
    {
     "data": {
      "image/png": "[encoded data removed]",
      "text/plain": [
       "<Figure size 1440x576 with 1 Axes>"
      ]
     },
     "metadata": {
      "needs_background": "light"
     },
     "output_type": "display_data"
    }
   ],
   "source": [
    "pred = pd.DataFrame({'Actual': y_test.tolist(), 'Predicted': y_test_pred_lr.tolist()}).head(10)\n",
    "pred.head(10)\n",
    "pred.plot(kind='bar', figsize=(20, 8))\n",
    "plt.title('Linear Regression model with predicted and real values')\n",
    "plt.xlabel('Number of examples')\n",
    "plt.ylabel('Average Ratings')\n",
    "plt.ylim(0,5)"
   ]
  },
  {
   "cell_type": "code",
   "execution_count": 16,
   "id": "cb7cb834",
   "metadata": {},
   "outputs": [
    {
     "data": {
      "image/png": "[encoded data removed]",
      "text/plain": [
       "<Figure size 432x288 with 1 Axes>"
      ]
     },
     "metadata": {
      "needs_background": "light"
     },
     "output_type": "display_data"
    }
   ],
   "source": [
    "plt.scatter(y_test_pred_lr, y_test, alpha = 0.7, color = 'b')\n",
    "plt.xlabel('Predicted Book Ratings')\n",
    "plt.ylabel('Actual Book Ratings')\n",
    "plt.title('Linear Regression Model')\n",
    "plt.tight_layout()\n",
    "plt.xlim(0,5)\n",
    "plt.show()"
   ]
  },
  {
   "cell_type": "markdown",
   "id": "7747c858",
   "metadata": {},
   "source": [
    "Visually, it seems that the model works okay for all books that may have ratings at areound 4. For any rating below that, it is terrible model."
   ]
  },
  {
   "cell_type": "markdown",
   "id": "0d28f842",
   "metadata": {},
   "source": [
    "### MAE, MSE, R^2, RMSE"
   ]
  },
  {
   "cell_type": "code",
   "execution_count": 17,
   "id": "aa54db48",
   "metadata": {},
   "outputs": [
    {
     "name": "stdout",
     "output_type": "stream",
     "text": [
      "MAE in Linear Regression train: 0.230, test: 0.220\n",
      "MSE in Linear Regression train: 0.121, test: 0.109\n",
      "R^2 in Linear Regression train: 0.048, test: 0.039\n",
      "RMSE in Linear Regression train: 0.348, test: 0.330\n"
     ]
    }
   ],
   "source": [
    "print('MAE in Linear Regression train: %.3f, test: %.3f' % (\n",
    "        mean_absolute_error(y_train, y_train_pred_lr),\n",
    "        mean_absolute_error(y_test, y_test_pred_lr)))\n",
    "print('MSE in Linear Regression train: %.3f, test: %.3f' % (\n",
    "        mean_squared_error(y_train, y_train_pred_lr),\n",
    "        mean_squared_error(y_test, y_test_pred_lr)))\n",
    "print('R^2 in Linear Regression train: %.3f, test: %.3f' % (\n",
    "        r2_score(y_train, y_train_pred_lr),\n",
    "        r2_score(y_test, y_test_pred_lr)))\n",
    "print('RMSE in Linear Regression train: %.3f, test: %.3f' % (\n",
    "        np.sqrt(metrics.mean_squared_error(y_train, y_train_pred_lr)),\n",
    "        np.sqrt(metrics.mean_squared_error(y_test, y_test_pred_lr))))"
   ]
  },
  {
   "cell_type": "markdown",
   "id": "5214a4ea",
   "metadata": {},
   "source": [
    "# Random Forest"
   ]
  },
  {
   "cell_type": "code",
   "execution_count": 18,
   "id": "784d8c26",
   "metadata": {},
   "outputs": [],
   "source": [
    "forest = RandomForestRegressor(n_estimators=1000, \n",
    "                               criterion='squared_error', \n",
    "                               random_state=1, \n",
    "                               n_jobs=-1)\n",
    "forest.fit(X_train, y_train)\n",
    "y_train_pred_rf = forest.predict(X_train)\n",
    "y_test_pred_rf = forest.predict(X_test)"
   ]
  },
  {
   "cell_type": "markdown",
   "id": "55b5e3c7",
   "metadata": {},
   "source": [
    "## Evaluating the Linear Regression model"
   ]
  },
  {
   "cell_type": "code",
   "execution_count": 19,
   "id": "bf2cd50d",
   "metadata": {},
   "outputs": [
    {
     "data": {
      "text/plain": [
       "(0.0, 5.0)"
      ]
     },
     "execution_count": 19,
     "metadata": {},
     "output_type": "execute_result"
    },
    {
     "data": {
      "image/png": "[encoded data removed]",
      "text/plain": [
       "<Figure size 1440x576 with 1 Axes>"
      ]
     },
     "metadata": {
      "needs_background": "light"
     },
     "output_type": "display_data"
    }
   ],
   "source": [
    "pred1 = pd.DataFrame({'Actual': y_test.tolist(), 'Predicted': y_test_pred_rf.tolist()}).head(10)\n",
    "pred1.head(10)\n",
    "pred1.plot(kind='bar', figsize=(20, 8))\n",
    "plt.title('Random Forest model with predicted and real values')\n",
    "plt.xlabel('Number of examples')\n",
    "plt.ylabel('Average Ratings')\n",
    "plt.ylim(0,5)"
   ]
  },
  {
   "cell_type": "code",
   "execution_count": 20,
   "id": "7ef4dd75",
   "metadata": {},
   "outputs": [
    {
     "data": {
      "image/png": "[encoded data removed]",
      "text/plain": [
       "<Figure size 432x288 with 1 Axes>"
      ]
     },
     "metadata": {
      "needs_background": "light"
     },
     "output_type": "display_data"
    }
   ],
   "source": [
    "plt.scatter(y_test_pred_rf, y_test, alpha = 0.7, color = 'b')\n",
    "plt.xlabel('Predicted Book Ratings')\n",
    "plt.ylabel('Actual Book Ratings')\n",
    "plt.title('Random Forest Model')\n",
    "plt.tight_layout()\n",
    "plt.xlim(0,5)\n",
    "plt.show()"
   ]
  },
  {
   "cell_type": "markdown",
   "id": "0753b97e",
   "metadata": {},
   "source": [
    "### MAE, MSE, R^2, RMSE"
   ]
  },
  {
   "cell_type": "code",
   "execution_count": 21,
   "id": "7c90caec",
   "metadata": {},
   "outputs": [
    {
     "name": "stdout",
     "output_type": "stream",
     "text": [
      "MAE in Random Forest train: 0.080, test: 0.211\n",
      "MSE in Random Forest train: 0.015, test: 0.094\n",
      "R^2 in Random Forest train: 0.884, test: 0.165\n",
      "RMSE in Random Forest train: 0.121, test: 0.307\n"
     ]
    }
   ],
   "source": [
    "print('MAE in Random Forest train: %.3f, test: %.3f' % (\n",
    "        mean_absolute_error(y_train, y_train_pred_rf),\n",
    "        mean_absolute_error(y_test, y_test_pred_rf)))\n",
    "print('MSE in Random Forest train: %.3f, test: %.3f' % (\n",
    "        mean_squared_error(y_train, y_train_pred_rf),\n",
    "        mean_squared_error(y_test, y_test_pred_rf)))\n",
    "print('R^2 in Random Forest train: %.3f, test: %.3f' % (\n",
    "        r2_score(y_train, y_train_pred_rf),\n",
    "        r2_score(y_test, y_test_pred_rf)))\n",
    "print('RMSE in Random Forest train: %.3f, test: %.3f' % (\n",
    "        np.sqrt(metrics.mean_squared_error(y_train, y_train_pred_rf)),\n",
    "        np.sqrt(metrics.mean_squared_error(y_test, y_test_pred_rf))))"
   ]
  },
  {
   "cell_type": "markdown",
   "id": "bfb5f735",
   "metadata": {},
   "source": [
    "# Lighter Linear Regression model\n",
    "\n",
    "In the previous Linear Regression model, we used some of the categorical variables. Also, we did not convert the average ratings into classes. Here, we attempt a Lighter model without categorical variables and target in the form of classes."
   ]
  },
  {
   "cell_type": "code",
   "execution_count": 22,
   "id": "c98fa592",
   "metadata": {},
   "outputs": [],
   "source": [
    "df_model1 = df[['average_rating', 'num_pages', 'ratings_count', 'text_reviews_count', 'month', 'date', 'year', 'Age_of_book']]"
   ]
  },
  {
   "cell_type": "code",
   "execution_count": 23,
   "id": "d25c89dd",
   "metadata": {},
   "outputs": [
    {
     "data": {
      "text/html": [
       "<div>\n",
       "<style scoped>\n",
       "    .dataframe tbody tr th:only-of-type {\n",
       "        vertical-align: middle;\n",
       "    }\n",
       "\n",
       "    .dataframe tbody tr th {\n",
       "        vertical-align: top;\n",
       "    }\n",
       "\n",
       "    .dataframe thead th {\n",
       "        text-align: right;\n",
       "    }\n",
       "</style>\n",
       "<table border=\"1\" class=\"dataframe\">\n",
       "  <thead>\n",
       "    <tr style=\"text-align: right;\">\n",
       "      <th></th>\n",
       "      <th>average_rating</th>\n",
       "      <th>num_pages</th>\n",
       "      <th>ratings_count</th>\n",
       "      <th>text_reviews_count</th>\n",
       "      <th>month</th>\n",
       "      <th>date</th>\n",
       "      <th>year</th>\n",
       "      <th>Age_of_book</th>\n",
       "    </tr>\n",
       "    <tr>\n",
       "      <th>bookID</th>\n",
       "      <th></th>\n",
       "      <th></th>\n",
       "      <th></th>\n",
       "      <th></th>\n",
       "      <th></th>\n",
       "      <th></th>\n",
       "      <th></th>\n",
       "      <th></th>\n",
       "    </tr>\n",
       "  </thead>\n",
       "  <tbody>\n",
       "    <tr>\n",
       "      <th>1</th>\n",
       "      <td>4.57</td>\n",
       "      <td>652</td>\n",
       "      <td>2095690</td>\n",
       "      <td>27591</td>\n",
       "      <td>9</td>\n",
       "      <td>16</td>\n",
       "      <td>2006</td>\n",
       "      <td>15.0</td>\n",
       "    </tr>\n",
       "    <tr>\n",
       "      <th>2</th>\n",
       "      <td>4.49</td>\n",
       "      <td>870</td>\n",
       "      <td>2153167</td>\n",
       "      <td>29221</td>\n",
       "      <td>9</td>\n",
       "      <td>1</td>\n",
       "      <td>2004</td>\n",
       "      <td>17.0</td>\n",
       "    </tr>\n",
       "    <tr>\n",
       "      <th>4</th>\n",
       "      <td>4.42</td>\n",
       "      <td>352</td>\n",
       "      <td>6333</td>\n",
       "      <td>244</td>\n",
       "      <td>11</td>\n",
       "      <td>1</td>\n",
       "      <td>2003</td>\n",
       "      <td>18.0</td>\n",
       "    </tr>\n",
       "    <tr>\n",
       "      <th>5</th>\n",
       "      <td>4.56</td>\n",
       "      <td>435</td>\n",
       "      <td>2339585</td>\n",
       "      <td>36325</td>\n",
       "      <td>5</td>\n",
       "      <td>1</td>\n",
       "      <td>2004</td>\n",
       "      <td>18.0</td>\n",
       "    </tr>\n",
       "    <tr>\n",
       "      <th>8</th>\n",
       "      <td>4.78</td>\n",
       "      <td>2690</td>\n",
       "      <td>41428</td>\n",
       "      <td>164</td>\n",
       "      <td>9</td>\n",
       "      <td>13</td>\n",
       "      <td>2004</td>\n",
       "      <td>17.0</td>\n",
       "    </tr>\n",
       "  </tbody>\n",
       "</table>\n",
       "</div>"
      ],
      "text/plain": [
       "        average_rating  num_pages  ratings_count  text_reviews_count  month  \\\n",
       "bookID                                                                        \n",
       "1                 4.57        652        2095690               27591      9   \n",
       "2                 4.49        870        2153167               29221      9   \n",
       "4                 4.42        352           6333                 244     11   \n",
       "5                 4.56        435        2339585               36325      5   \n",
       "8                 4.78       2690          41428                 164      9   \n",
       "\n",
       "        date  year  Age_of_book  \n",
       "bookID                           \n",
       "1         16  2006         15.0  \n",
       "2          1  2004         17.0  \n",
       "4          1  2003         18.0  \n",
       "5          1  2004         18.0  \n",
       "8         13  2004         17.0  "
      ]
     },
     "execution_count": 23,
     "metadata": {},
     "output_type": "execute_result"
    }
   ],
   "source": [
    "df_model1.head()"
   ]
  },
  {
   "cell_type": "code",
   "execution_count": 24,
   "id": "9941441e",
   "metadata": {},
   "outputs": [
    {
     "name": "stderr",
     "output_type": "stream",
     "text": [
      "C:\\Users\\ndeob\\AppData\\Local\\Temp/ipykernel_22848/3879941386.py:1: SettingWithCopyWarning: \n",
      "A value is trying to be set on a copy of a slice from a DataFrame.\n",
      "Try using .loc[row_indexer,col_indexer] = value instead\n",
      "\n",
      "See the caveats in the documentation: https://pandas.pydata.org/pandas-docs/stable/user_guide/indexing.html#returning-a-view-versus-a-copy\n",
      "  df_model1.loc[:,\"average_rating\"] = df_model1.loc[:,\"average_rating\"].round(0).astype(int)\n"
     ]
    }
   ],
   "source": [
    "df_model1.loc[:,\"average_rating\"] = df_model1.loc[:,\"average_rating\"].round(0).astype(int)"
   ]
  },
  {
   "cell_type": "code",
   "execution_count": 25,
   "id": "16f04487",
   "metadata": {},
   "outputs": [
    {
     "data": {
      "text/html": [
       "<div>\n",
       "<style scoped>\n",
       "    .dataframe tbody tr th:only-of-type {\n",
       "        vertical-align: middle;\n",
       "    }\n",
       "\n",
       "    .dataframe tbody tr th {\n",
       "        vertical-align: top;\n",
       "    }\n",
       "\n",
       "    .dataframe thead th {\n",
       "        text-align: right;\n",
       "    }\n",
       "</style>\n",
       "<table border=\"1\" class=\"dataframe\">\n",
       "  <thead>\n",
       "    <tr style=\"text-align: right;\">\n",
       "      <th></th>\n",
       "      <th>average_rating</th>\n",
       "      <th>num_pages</th>\n",
       "      <th>ratings_count</th>\n",
       "      <th>text_reviews_count</th>\n",
       "      <th>month</th>\n",
       "      <th>date</th>\n",
       "      <th>year</th>\n",
       "      <th>Age_of_book</th>\n",
       "    </tr>\n",
       "    <tr>\n",
       "      <th>bookID</th>\n",
       "      <th></th>\n",
       "      <th></th>\n",
       "      <th></th>\n",
       "      <th></th>\n",
       "      <th></th>\n",
       "      <th></th>\n",
       "      <th></th>\n",
       "      <th></th>\n",
       "    </tr>\n",
       "  </thead>\n",
       "  <tbody>\n",
       "    <tr>\n",
       "      <th>1</th>\n",
       "      <td>5</td>\n",
       "      <td>652</td>\n",
       "      <td>2095690</td>\n",
       "      <td>27591</td>\n",
       "      <td>9</td>\n",
       "      <td>16</td>\n",
       "      <td>2006</td>\n",
       "      <td>15.0</td>\n",
       "    </tr>\n",
       "    <tr>\n",
       "      <th>2</th>\n",
       "      <td>4</td>\n",
       "      <td>870</td>\n",
       "      <td>2153167</td>\n",
       "      <td>29221</td>\n",
       "      <td>9</td>\n",
       "      <td>1</td>\n",
       "      <td>2004</td>\n",
       "      <td>17.0</td>\n",
       "    </tr>\n",
       "    <tr>\n",
       "      <th>4</th>\n",
       "      <td>4</td>\n",
       "      <td>352</td>\n",
       "      <td>6333</td>\n",
       "      <td>244</td>\n",
       "      <td>11</td>\n",
       "      <td>1</td>\n",
       "      <td>2003</td>\n",
       "      <td>18.0</td>\n",
       "    </tr>\n",
       "    <tr>\n",
       "      <th>5</th>\n",
       "      <td>5</td>\n",
       "      <td>435</td>\n",
       "      <td>2339585</td>\n",
       "      <td>36325</td>\n",
       "      <td>5</td>\n",
       "      <td>1</td>\n",
       "      <td>2004</td>\n",
       "      <td>18.0</td>\n",
       "    </tr>\n",
       "    <tr>\n",
       "      <th>8</th>\n",
       "      <td>5</td>\n",
       "      <td>2690</td>\n",
       "      <td>41428</td>\n",
       "      <td>164</td>\n",
       "      <td>9</td>\n",
       "      <td>13</td>\n",
       "      <td>2004</td>\n",
       "      <td>17.0</td>\n",
       "    </tr>\n",
       "  </tbody>\n",
       "</table>\n",
       "</div>"
      ],
      "text/plain": [
       "        average_rating  num_pages  ratings_count  text_reviews_count  month  \\\n",
       "bookID                                                                        \n",
       "1                    5        652        2095690               27591      9   \n",
       "2                    4        870        2153167               29221      9   \n",
       "4                    4        352           6333                 244     11   \n",
       "5                    5        435        2339585               36325      5   \n",
       "8                    5       2690          41428                 164      9   \n",
       "\n",
       "        date  year  Age_of_book  \n",
       "bookID                           \n",
       "1         16  2006         15.0  \n",
       "2          1  2004         17.0  \n",
       "4          1  2003         18.0  \n",
       "5          1  2004         18.0  \n",
       "8         13  2004         17.0  "
      ]
     },
     "execution_count": 25,
     "metadata": {},
     "output_type": "execute_result"
    }
   ],
   "source": [
    "df_model1.head()"
   ]
  },
  {
   "cell_type": "code",
   "execution_count": 26,
   "id": "4e8e6547",
   "metadata": {},
   "outputs": [],
   "source": [
    "X1 = df_model1.drop(['average_rating'], axis = 1)\n",
    "y1 = df_model1['average_rating'].values\n",
    "\n",
    "X1_train, X1_test, y1_train, y1_test = train_test_split(X1, y1, test_size = 0.20, random_state = 42)"
   ]
  },
  {
   "cell_type": "code",
   "execution_count": 27,
   "id": "4d836b55",
   "metadata": {},
   "outputs": [],
   "source": [
    "lr1 = LinearRegression()\n",
    "lr1.fit(X1_train, y1_train)\n",
    "y1_train_pred_lr = lr1.predict(X1_train)\n",
    "y1_test_pred_lr = lr1.predict(X1_test)"
   ]
  },
  {
   "cell_type": "markdown",
   "id": "ba38b62d",
   "metadata": {},
   "source": [
    "## Evaluating the Lighter Linear Regression model"
   ]
  },
  {
   "cell_type": "code",
   "execution_count": 28,
   "id": "8e5140a1",
   "metadata": {},
   "outputs": [
    {
     "data": {
      "text/plain": [
       "(0.0, 5.0)"
      ]
     },
     "execution_count": 28,
     "metadata": {},
     "output_type": "execute_result"
    },
    {
     "data": {
      "image/png": "[encoded data removed]",
      "text/plain": [
       "<Figure size 1440x576 with 1 Axes>"
      ]
     },
     "metadata": {
      "needs_background": "light"
     },
     "output_type": "display_data"
    }
   ],
   "source": [
    "pred1 = pd.DataFrame({'Actual': y1_test.tolist(), 'Predicted': y1_test_pred_lr.tolist()}).head(10)\n",
    "pred1.head(10)\n",
    "pred1.plot(kind='bar', figsize=(20, 8))\n",
    "plt.title('Linear Regression model with predicted and real values')\n",
    "plt.xlabel('Number of examples')\n",
    "plt.ylabel('Average Ratings')\n",
    "plt.ylim(0,5)"
   ]
  },
  {
   "cell_type": "markdown",
   "id": "95e34c39",
   "metadata": {},
   "source": [
    "### MAE, MSE, R^2, RMSE"
   ]
  },
  {
   "cell_type": "code",
   "execution_count": 29,
   "id": "d2163676",
   "metadata": {},
   "outputs": [
    {
     "name": "stdout",
     "output_type": "stream",
     "text": [
      "MAE in Linear Regression train: 0.144, test: 0.137\n",
      "MSE in Linear Regression train: 0.121, test: 0.106\n",
      "R^2 in Linear Regression train: 0.006, test: 0.018\n",
      "RMSE in Linear Regression train: 0.348, test: 0.326\n"
     ]
    }
   ],
   "source": [
    "print('MAE in Linear Regression train: %.3f, test: %.3f' % (\n",
    "        mean_absolute_error(y1_train, y1_train_pred_lr),\n",
    "        mean_absolute_error(y1_test, y1_test_pred_lr)))\n",
    "print('MSE in Linear Regression train: %.3f, test: %.3f' % (\n",
    "        mean_squared_error(y1_train, y1_train_pred_lr),\n",
    "        mean_squared_error(y1_test, y1_test_pred_lr)))\n",
    "print('R^2 in Linear Regression train: %.3f, test: %.3f' % (\n",
    "        r2_score(y1_train, y1_train_pred_lr),\n",
    "        r2_score(y1_test, y1_test_pred_lr)))\n",
    "print('RMSE in Linear Regression train: %.3f, test: %.3f' % (\n",
    "        np.sqrt(metrics.mean_squared_error(y1_train, y1_train_pred_lr)),\n",
    "        np.sqrt(metrics.mean_squared_error(y1_test, y1_test_pred_lr))))"
   ]
  },
  {
   "cell_type": "code",
   "execution_count": 30,
   "id": "b2799e0a",
   "metadata": {},
   "outputs": [
    {
     "data": {
      "image/png": "[encoded data removed]",
      "text/plain": [
       "<Figure size 432x288 with 1 Axes>"
      ]
     },
     "metadata": {
      "needs_background": "light"
     },
     "output_type": "display_data"
    }
   ],
   "source": [
    "plt.scatter(y1_test_pred_lr, y1_test, alpha = 0.7, color = 'b')\n",
    "plt.xlabel('Predicted Book Ratings')\n",
    "plt.ylabel('Actual Book Ratings')\n",
    "plt.title('Linear Regression Model')\n",
    "plt.tight_layout()\n",
    "plt.xlim(0,5)\n",
    "plt.show()"
   ]
  },
  {
   "cell_type": "markdown",
   "id": "f6a617a6",
   "metadata": {},
   "source": [
    "Here alsothe model woks alright for all books with average ratings at around 4. For all others, it is not appropriate."
   ]
  }
 ],
 "metadata": {
  "kernelspec": {
   "display_name": "Python 3 (ipykernel)",
   "language": "python",
   "name": "python3"
  },
  "language_info": {
   "codemirror_mode": {
    "name": "ipython",
    "version": 3
   },
   "file_extension": ".py",
   "mimetype": "text/x-python",
   "name": "python",
   "nbconvert_exporter": "python",
   "pygments_lexer": "ipython3",
   "version": "3.9.7"
  }
 },
 "nbformat": 4,
 "nbformat_minor": 5
}
